{
 "cells": [
  {
   "cell_type": "code",
   "execution_count": 1,
   "metadata": {},
   "outputs": [
    {
     "name": "stdout",
     "output_type": "stream",
     "text": [
      "<class 'pandas.core.frame.DataFrame'>\n",
      "RangeIndex: 9994 entries, 0 to 9993\n",
      "Data columns (total 21 columns):\n",
      " #   Column             Non-Null Count  Dtype  \n",
      "---  ------             --------------  -----  \n",
      " 0   Profit Ratio       9994 non-null   object \n",
      " 1   Category           9994 non-null   object \n",
      " 2   City               9994 non-null   object \n",
      " 3   Country            9994 non-null   object \n",
      " 4   Customer Name      9994 non-null   object \n",
      " 5   Discount           9994 non-null   object \n",
      " 6   Number of Records  9994 non-null   int64  \n",
      " 7   Order Date         9994 non-null   object \n",
      " 8   Order ID           9994 non-null   object \n",
      " 9   Postal Code        9983 non-null   float64\n",
      " 10  Manufacturer       9994 non-null   object \n",
      " 11  Product Name       9994 non-null   object \n",
      " 12  Profit             9994 non-null   object \n",
      " 13  Quantity           9994 non-null   int64  \n",
      " 14  Region             9994 non-null   object \n",
      " 15  Sales              9994 non-null   object \n",
      " 16  Segment            9994 non-null   object \n",
      " 17  Ship Date          9994 non-null   object \n",
      " 18  Ship Mode          9994 non-null   object \n",
      " 19  State              9994 non-null   object \n",
      " 20  Sub-Category       9994 non-null   object \n",
      "dtypes: float64(1), int64(2), object(18)\n",
      "memory usage: 1.6+ MB\n"
     ]
    }
   ],
   "source": [
    "import pandas as pd\n",
    "import numpy as np\n",
    "\n",
    "import seaborn as sns\n",
    "import matplotlib.pyplot as plt\n",
    "\n",
    "data = pd.read_csv('superstore.csv')\n",
    "data.info()"
   ]
  },
  {
   "cell_type": "code",
   "execution_count": 12,
   "metadata": {},
   "outputs": [
    {
     "name": "stdout",
     "output_type": "stream",
     "text": [
      "<class 'pandas.core.frame.DataFrame'>\n",
      "RangeIndex: 9994 entries, 0 to 9993\n",
      "Data columns (total 22 columns):\n",
      " #   Column             Non-Null Count  Dtype    \n",
      "---  ------             --------------  -----    \n",
      " 0   Profit Ratio       9994 non-null   object   \n",
      " 1   Category           9994 non-null   object   \n",
      " 2   City               9994 non-null   object   \n",
      " 3   Country            9994 non-null   object   \n",
      " 4   Customer Name      9994 non-null   object   \n",
      " 5   Discount           9994 non-null   object   \n",
      " 6   Number of Records  9994 non-null   int64    \n",
      " 7   Order Date         9994 non-null   object   \n",
      " 8   Order ID           9994 non-null   object   \n",
      " 9   Postal Code        9983 non-null   float64  \n",
      " 10  Manufacturer       9994 non-null   object   \n",
      " 11  Product Name       9994 non-null   object   \n",
      " 12  Profit             9994 non-null   object   \n",
      " 13  Quantity           9994 non-null   int64    \n",
      " 14  Region             9994 non-null   object   \n",
      " 15  Sales              9994 non-null   object   \n",
      " 16  Segment            9994 non-null   object   \n",
      " 17  Ship Date          9994 non-null   object   \n",
      " 18  Ship Mode          9994 non-null   object   \n",
      " 19  State              9994 non-null   object   \n",
      " 20  Sub-Category       9994 non-null   object   \n",
      " 21  Time               9994 non-null   period[M]\n",
      "dtypes: float64(1), int64(2), object(18), period[M](1)\n",
      "memory usage: 1.7+ MB\n"
     ]
    }
   ],
   "source": [
    "data['Time'] = pd.to_datetime(data['Order Date']).dt.to_period('m')\n",
    "data.info()"
   ]
  },
  {
   "cell_type": "code",
   "execution_count": 15,
   "metadata": {},
   "outputs": [
    {
     "data": {
      "text/html": [
       "<div>\n",
       "<style scoped>\n",
       "    .dataframe tbody tr th:only-of-type {\n",
       "        vertical-align: middle;\n",
       "    }\n",
       "\n",
       "    .dataframe tbody tr th {\n",
       "        vertical-align: top;\n",
       "    }\n",
       "\n",
       "    .dataframe thead th {\n",
       "        text-align: right;\n",
       "    }\n",
       "</style>\n",
       "<table border=\"1\" class=\"dataframe\">\n",
       "  <thead>\n",
       "    <tr style=\"text-align: right;\">\n",
       "      <th></th>\n",
       "      <th>Time</th>\n",
       "      <th>Sales</th>\n",
       "    </tr>\n",
       "  </thead>\n",
       "  <tbody>\n",
       "    <tr>\n",
       "      <th>0</th>\n",
       "      <td>2015-01</td>\n",
       "      <td>$9$31$10$12$273$4$11$51$647$6$573$3$52$127$124...</td>\n",
       "    </tr>\n",
       "    <tr>\n",
       "      <th>1</th>\n",
       "      <td>2015-02</td>\n",
       "      <td>$130$469$115$1$8$84$13$83$34$12$15$162$145$9$6...</td>\n",
       "    </tr>\n",
       "    <tr>\n",
       "      <th>2</th>\n",
       "      <td>2015-03</td>\n",
       "      <td>$458$7$6$19$143$46$7$43$132$10$126$25$22$94$47...</td>\n",
       "    </tr>\n",
       "    <tr>\n",
       "      <th>3</th>\n",
       "      <td>2015-04</td>\n",
       "      <td>$18$510$31$72$39$55$45$17$17$30$17$10$155$117$...</td>\n",
       "    </tr>\n",
       "    <tr>\n",
       "      <th>4</th>\n",
       "      <td>2015-05</td>\n",
       "      <td>$56$58$101$66$3$21$55$567$359$311$68$168$2,716...</td>\n",
       "    </tr>\n",
       "  </tbody>\n",
       "</table>\n",
       "</div>"
      ],
      "text/plain": [
       "      Time                                              Sales\n",
       "0  2015-01  $9$31$10$12$273$4$11$51$647$6$573$3$52$127$124...\n",
       "1  2015-02  $130$469$115$1$8$84$13$83$34$12$15$162$145$9$6...\n",
       "2  2015-03  $458$7$6$19$143$46$7$43$132$10$126$25$22$94$47...\n",
       "3  2015-04  $18$510$31$72$39$55$45$17$17$30$17$10$155$117$...\n",
       "4  2015-05  $56$58$101$66$3$21$55$567$359$311$68$168$2,716..."
      ]
     },
     "execution_count": 15,
     "metadata": {},
     "output_type": "execute_result"
    }
   ],
   "source": [
    "total_sales = data[['Time', 'Sales']].groupby('Time', as_index=False).agg('sum')\n",
    "total_sales.head()"
   ]
  },
  {
   "cell_type": "code",
   "execution_count": null,
   "metadata": {},
   "outputs": [],
   "source": []
  }
 ],
 "metadata": {
  "kernelspec": {
   "display_name": "Python 3",
   "language": "python",
   "name": "python3"
  },
  "language_info": {
   "codemirror_mode": {
    "name": "ipython",
    "version": 3
   },
   "file_extension": ".py",
   "mimetype": "text/x-python",
   "name": "python",
   "nbconvert_exporter": "python",
   "pygments_lexer": "ipython3",
   "version": "3.7.6"
  }
 },
 "nbformat": 4,
 "nbformat_minor": 4
}
