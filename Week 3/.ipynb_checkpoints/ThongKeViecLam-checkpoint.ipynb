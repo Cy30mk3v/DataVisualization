{
 "cells": [
  {
   "cell_type": "code",
   "execution_count": 1,
   "metadata": {},
   "outputs": [],
   "source": [
    "import pandas as pd\n",
    "import numpy as np\n",
    "\n",
    "import matplotlib.pyplot as plt\n",
    "import seaborn as sns"
   ]
  },
  {
   "cell_type": "code",
   "execution_count": 2,
   "metadata": {},
   "outputs": [
    {
     "data": {
      "text/plain": [
       "(24, 8)"
      ]
     },
     "execution_count": 2,
     "metadata": {},
     "output_type": "execute_result"
    }
   ],
   "source": [
    "df = pd.read_csv('./V02.csv')\n",
    "\n",
    "df.shape"
   ]
  },
  {
   "cell_type": "code",
   "execution_count": 3,
   "metadata": {},
   "outputs": [
    {
     "name": "stdout",
     "output_type": "stream",
     "text": [
      "<class 'pandas.core.frame.DataFrame'>\n",
      "RangeIndex: 24 entries, 0 to 23\n",
      "Data columns (total 8 columns):\n",
      " #   Column    Non-Null Count  Dtype  \n",
      "---  ------    --------------  -----  \n",
      " 0   Năm       24 non-null     int64  \n",
      " 1   Khu vực   24 non-null     object \n",
      " 2   TN 15-24  24 non-null     float64\n",
      " 3   TN 25-49  24 non-null     float64\n",
      " 4   TN 50+    24 non-null     float64\n",
      " 5   TV 15-24  24 non-null     float64\n",
      " 6   TV 25-49  24 non-null     float64\n",
      " 7   TV 50+    24 non-null     float64\n",
      "dtypes: float64(6), int64(1), object(1)\n",
      "memory usage: 1.6+ KB\n"
     ]
    }
   ],
   "source": [
    "df.info()"
   ]
  },
  {
   "cell_type": "code",
   "execution_count": 4,
   "metadata": {},
   "outputs": [
    {
     "data": {
      "text/html": [
       "<div>\n",
       "<style scoped>\n",
       "    .dataframe tbody tr th:only-of-type {\n",
       "        vertical-align: middle;\n",
       "    }\n",
       "\n",
       "    .dataframe tbody tr th {\n",
       "        vertical-align: top;\n",
       "    }\n",
       "\n",
       "    .dataframe thead th {\n",
       "        text-align: right;\n",
       "    }\n",
       "</style>\n",
       "<table border=\"1\" class=\"dataframe\">\n",
       "  <thead>\n",
       "    <tr style=\"text-align: right;\">\n",
       "      <th></th>\n",
       "      <th>Năm</th>\n",
       "      <th>Khu vực</th>\n",
       "      <th>TN 15-24</th>\n",
       "      <th>TN 25-49</th>\n",
       "      <th>TN 50+</th>\n",
       "      <th>TV 15-24</th>\n",
       "      <th>TV 25-49</th>\n",
       "      <th>TV 50+</th>\n",
       "    </tr>\n",
       "  </thead>\n",
       "  <tbody>\n",
       "    <tr>\n",
       "      <th>0</th>\n",
       "      <td>2017</td>\n",
       "      <td>Đồng bằng sông Hồng</td>\n",
       "      <td>9.98</td>\n",
       "      <td>1.22</td>\n",
       "      <td>0.57</td>\n",
       "      <td>1.55</td>\n",
       "      <td>1.04</td>\n",
       "      <td>1.52</td>\n",
       "    </tr>\n",
       "    <tr>\n",
       "      <th>1</th>\n",
       "      <td>2017</td>\n",
       "      <td>Trung du và miền núi phía Bắc</td>\n",
       "      <td>3.28</td>\n",
       "      <td>0.53</td>\n",
       "      <td>0.25</td>\n",
       "      <td>2.33</td>\n",
       "      <td>1.19</td>\n",
       "      <td>0.49</td>\n",
       "    </tr>\n",
       "    <tr>\n",
       "      <th>2</th>\n",
       "      <td>2017</td>\n",
       "      <td>Bắc Trung Bộ và duyên hải miền Trung</td>\n",
       "      <td>8.45</td>\n",
       "      <td>1.50</td>\n",
       "      <td>0.70</td>\n",
       "      <td>2.97</td>\n",
       "      <td>1.58</td>\n",
       "      <td>1.27</td>\n",
       "    </tr>\n",
       "    <tr>\n",
       "      <th>3</th>\n",
       "      <td>2017</td>\n",
       "      <td>Tây Nguyên</td>\n",
       "      <td>2.98</td>\n",
       "      <td>0.49</td>\n",
       "      <td>0.66</td>\n",
       "      <td>2.80</td>\n",
       "      <td>1.35</td>\n",
       "      <td>0.64</td>\n",
       "    </tr>\n",
       "    <tr>\n",
       "      <th>4</th>\n",
       "      <td>2017</td>\n",
       "      <td>Đông Nam Bộ</td>\n",
       "      <td>7.88</td>\n",
       "      <td>1.81</td>\n",
       "      <td>1.57</td>\n",
       "      <td>0.53</td>\n",
       "      <td>0.46</td>\n",
       "      <td>0.73</td>\n",
       "    </tr>\n",
       "  </tbody>\n",
       "</table>\n",
       "</div>"
      ],
      "text/plain": [
       "    Năm                               Khu vực  TN 15-24  TN 25-49  TN 50+  \\\n",
       "0  2017                   Đồng bằng sông Hồng      9.98      1.22    0.57   \n",
       "1  2017         Trung du và miền núi phía Bắc      3.28      0.53    0.25   \n",
       "2  2017  Bắc Trung Bộ và duyên hải miền Trung      8.45      1.50    0.70   \n",
       "3  2017                            Tây Nguyên      2.98      0.49    0.66   \n",
       "4  2017                           Đông Nam Bộ      7.88      1.81    1.57   \n",
       "\n",
       "   TV 15-24  TV 25-49  TV 50+  \n",
       "0      1.55      1.04    1.52  \n",
       "1      2.33      1.19    0.49  \n",
       "2      2.97      1.58    1.27  \n",
       "3      2.80      1.35    0.64  \n",
       "4      0.53      0.46    0.73  "
      ]
     },
     "execution_count": 4,
     "metadata": {},
     "output_type": "execute_result"
    }
   ],
   "source": [
    "df.head(5)"
   ]
  },
  {
   "cell_type": "code",
   "execution_count": 9,
   "metadata": {},
   "outputs": [],
   "source": [
    "cols = ['Năm']\n",
    "\n",
    "for item in df.columns:\n",
    "    if 'TN' in item:\n",
    "        cols.append(item)\n",
    "        \n",
    "tn_df = df[cols].groupby('Năm', as_index=False)\\\n",
    "    .sum()"
   ]
  },
  {
   "cell_type": "code",
   "execution_count": 11,
   "metadata": {},
   "outputs": [
    {
     "data": {
      "text/plain": [
       "<matplotlib.axes._subplots.AxesSubplot at 0x26c1ee26648>"
      ]
     },
     "execution_count": 11,
     "metadata": {},
     "output_type": "execute_result"
    },
    {
     "data": {
      "image/png": "[encoded data removed]",
      "text/plain": [
       "<Figure size 432x288 with 1 Axes>"
      ]
     },
     "metadata": {
      "needs_background": "light"
     },
     "output_type": "display_data"
    }
   ],
   "source": [
    "tn_df.plot.line(x='Năm', y='TN 15-24')"
   ]
  },
  {
   "cell_type": "code",
   "execution_count": 13,
   "metadata": {},
   "outputs": [
    {
     "data": {
      "text/plain": [
       "<matplotlib.axes._subplots.AxesSubplot at 0x26c1ff44308>"
      ]
     },
     "execution_count": 13,
     "metadata": {},
     "output_type": "execute_result"
    },
    {
     "data": {
      "image/png": "[encoded data removed]",
      "text/plain": [
       "<Figure size 432x288 with 1 Axes>"
      ]
     },
     "metadata": {
      "needs_background": "light"
     },
     "output_type": "display_data"
    }
   ],
   "source": [
    "tn_df.plot.line(x='Năm', y='TN 25-49')"
   ]
  },
  {
   "cell_type": "code",
   "execution_count": 14,
   "metadata": {},
   "outputs": [
    {
     "data": {
      "text/plain": [
       "<matplotlib.axes._subplots.AxesSubplot at 0x26c1ff44088>"
      ]
     },
     "execution_count": 14,
     "metadata": {},
     "output_type": "execute_result"
    },
    {
     "data": {
      "image/png": "[encoded data removed]",
      "text/plain": [
       "<Figure size 432x288 with 1 Axes>"
      ]
     },
     "metadata": {
      "needs_background": "light"
     },
     "output_type": "display_data"
    }
   ],
   "source": [
    "tn_df.plot.line(x='Năm', y='TN 50+')"
   ]
  },
  {
   "cell_type": "code",
   "execution_count": 23,
   "metadata": {},
   "outputs": [],
   "source": [
    "cols = ['Năm']\n",
    "\n",
    "for item in df.columns:\n",
    "    if 'TV' in item:\n",
    "        cols.append(item)\n",
    "        \n",
    "tv_df = df[cols].groupby('Năm', as_index=False)\\\n",
    "    .sum()"
   ]
  },
  {
   "cell_type": "code",
   "execution_count": 25,
   "metadata": {},
   "outputs": [
    {
     "data": {
      "text/plain": [
       "<matplotlib.axes._subplots.AxesSubplot at 0x26c201d7688>"
      ]
     },
     "execution_count": 25,
     "metadata": {},
     "output_type": "execute_result"
    },
    {
     "data": {
      "image/png": "[encoded data removed]",
      "text/plain": [
       "<Figure size 432x288 with 1 Axes>"
      ]
     },
     "metadata": {
      "needs_background": "light"
     },
     "output_type": "display_data"
    }
   ],
   "source": [
    "tv_df.plot.line(x='Năm', y='TV 15-24')"
   ]
  },
  {
   "cell_type": "code",
   "execution_count": 26,
   "metadata": {},
   "outputs": [
    {
     "data": {
      "text/plain": [
       "<matplotlib.axes._subplots.AxesSubplot at 0x26c2021c148>"
      ]
     },
     "execution_count": 26,
     "metadata": {},
     "output_type": "execute_result"
    },
    {
     "data": {
      "image/png": "[encoded data removed]",
      "text/plain": [
       "<Figure size 432x288 with 1 Axes>"
      ]
     },
     "metadata": {
      "needs_background": "light"
     },
     "output_type": "display_data"
    }
   ],
   "source": [
    "tv_df.plot.line(x='Năm', y='TV 25-49')"
   ]
  },
  {
   "cell_type": "code",
   "execution_count": null,
   "metadata": {},
   "outputs": [],
   "source": []
  }
 ],
 "metadata": {
  "kernelspec": {
   "display_name": "Python 3",
   "language": "python",
   "name": "python3"
  },
  "language_info": {
   "codemirror_mode": {
    "name": "ipython",
    "version": 3
   },
   "file_extension": ".py",
   "mimetype": "text/x-python",
   "name": "python",
   "nbconvert_exporter": "python",
   "pygments_lexer": "ipython3",
   "version": "3.7.6"
  }
 },
 "nbformat": 4,
 "nbformat_minor": 4
}
