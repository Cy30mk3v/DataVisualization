{
 "cells": [
  {
   "cell_type": "code",
   "execution_count": 1,
   "metadata": {},
   "outputs": [],
   "source": [
    "import pandas as pd\n",
    "import numpy as np\n",
    "\n",
    "import matplotlib.pyplot as plt\n",
    "import seaborn as sns"
   ]
  },
  {
   "cell_type": "code",
   "execution_count": 63,
   "metadata": {},
   "outputs": [
    {
     "data": {
      "text/plain": [
       "(8, 18)"
      ]
     },
     "execution_count": 63,
     "metadata": {},
     "output_type": "execute_result"
    }
   ],
   "source": [
    "df = pd.read_csv('V08.csv', header=None)\n",
    "\n",
    "df.shape"
   ]
  },
  {
   "cell_type": "code",
   "execution_count": 64,
   "metadata": {},
   "outputs": [
    {
     "data": {
      "text/html": [
       "<div>\n",
       "<style scoped>\n",
       "    .dataframe tbody tr th:only-of-type {\n",
       "        vertical-align: middle;\n",
       "    }\n",
       "\n",
       "    .dataframe tbody tr th {\n",
       "        vertical-align: top;\n",
       "    }\n",
       "\n",
       "    .dataframe thead th {\n",
       "        text-align: right;\n",
       "    }\n",
       "</style>\n",
       "<table border=\"1\" class=\"dataframe\">\n",
       "  <thead>\n",
       "    <tr style=\"text-align: right;\">\n",
       "      <th></th>\n",
       "      <th>Năm</th>\n",
       "      <th>DT_LT</th>\n",
       "      <th>DT_LH</th>\n",
       "      <th>KTN_LT</th>\n",
       "      <th>KQT_LT</th>\n",
       "      <th>KTN_LH</th>\n",
       "      <th>KQT_LH</th>\n",
       "      <th>KDLNG</th>\n",
       "    </tr>\n",
       "  </thead>\n",
       "  <tbody>\n",
       "    <tr>\n",
       "      <th>0</th>\n",
       "      <td>2000.0</td>\n",
       "      <td>3268.5</td>\n",
       "      <td>1190.0</td>\n",
       "      <td>7674.0</td>\n",
       "      <td>2656.0</td>\n",
       "      <td>939.5</td>\n",
       "      <td>1359.3</td>\n",
       "      <td>99.0</td>\n",
       "    </tr>\n",
       "    <tr>\n",
       "      <th>1</th>\n",
       "      <td>2001.0</td>\n",
       "      <td>3860.4</td>\n",
       "      <td>2009.0</td>\n",
       "      <td>9982.0</td>\n",
       "      <td>4110.0</td>\n",
       "      <td>1577.3</td>\n",
       "      <td>1439.1</td>\n",
       "      <td>97.0</td>\n",
       "    </tr>\n",
       "    <tr>\n",
       "      <th>2</th>\n",
       "      <td>2002.0</td>\n",
       "      <td>5425.5</td>\n",
       "      <td>2430.4</td>\n",
       "      <td>14676.4</td>\n",
       "      <td>4934.2</td>\n",
       "      <td>2624.5</td>\n",
       "      <td>1947.6</td>\n",
       "      <td>97.8</td>\n",
       "    </tr>\n",
       "    <tr>\n",
       "      <th>3</th>\n",
       "      <td>2003.0</td>\n",
       "      <td>6016.6</td>\n",
       "      <td>2633.2</td>\n",
       "      <td>16497.0</td>\n",
       "      <td>4187.2</td>\n",
       "      <td>2400.5</td>\n",
       "      <td>1425.0</td>\n",
       "      <td>150.7</td>\n",
       "    </tr>\n",
       "    <tr>\n",
       "      <th>4</th>\n",
       "      <td>2004.0</td>\n",
       "      <td>7432.4</td>\n",
       "      <td>3302.1</td>\n",
       "      <td>18426.0</td>\n",
       "      <td>5676.2</td>\n",
       "      <td>2914.7</td>\n",
       "      <td>1644.5</td>\n",
       "      <td>596.0</td>\n",
       "    </tr>\n",
       "    <tr>\n",
       "      <th>5</th>\n",
       "      <td>2005.0</td>\n",
       "      <td>9932.1</td>\n",
       "      <td>4761.2</td>\n",
       "      <td>21578.5</td>\n",
       "      <td>5326.6</td>\n",
       "      <td>3287.0</td>\n",
       "      <td>1776.3</td>\n",
       "      <td>370.6</td>\n",
       "    </tr>\n",
       "    <tr>\n",
       "      <th>6</th>\n",
       "      <td>2006.0</td>\n",
       "      <td>11427.3</td>\n",
       "      <td>5304.7</td>\n",
       "      <td>22263.2</td>\n",
       "      <td>5844.1</td>\n",
       "      <td>2591.7</td>\n",
       "      <td>1902.3</td>\n",
       "      <td>403.0</td>\n",
       "    </tr>\n",
       "    <tr>\n",
       "      <th>7</th>\n",
       "      <td>2007.0</td>\n",
       "      <td>14568.1</td>\n",
       "      <td>7712.0</td>\n",
       "      <td>27023.1</td>\n",
       "      <td>8035.8</td>\n",
       "      <td>2559.8</td>\n",
       "      <td>1883.7</td>\n",
       "      <td>360.8</td>\n",
       "    </tr>\n",
       "    <tr>\n",
       "      <th>8</th>\n",
       "      <td>2008.0</td>\n",
       "      <td>18335.8</td>\n",
       "      <td>8409.6</td>\n",
       "      <td>33618.6</td>\n",
       "      <td>6733.3</td>\n",
       "      <td>2589.0</td>\n",
       "      <td>2032.2</td>\n",
       "      <td>376.1</td>\n",
       "    </tr>\n",
       "    <tr>\n",
       "      <th>9</th>\n",
       "      <td>2009.0</td>\n",
       "      <td>23780.8</td>\n",
       "      <td>10278.4</td>\n",
       "      <td>46728.1</td>\n",
       "      <td>7595.3</td>\n",
       "      <td>5274.2</td>\n",
       "      <td>2344.3</td>\n",
       "      <td>455.7</td>\n",
       "    </tr>\n",
       "    <tr>\n",
       "      <th>10</th>\n",
       "      <td>2010.0</td>\n",
       "      <td>28907.8</td>\n",
       "      <td>15539.3</td>\n",
       "      <td>57897.3</td>\n",
       "      <td>8637.9</td>\n",
       "      <td>5415.0</td>\n",
       "      <td>2385.8</td>\n",
       "      <td>433.4</td>\n",
       "    </tr>\n",
       "    <tr>\n",
       "      <th>11</th>\n",
       "      <td>2011.0</td>\n",
       "      <td>34097.8</td>\n",
       "      <td>18091.6</td>\n",
       "      <td>61405.4</td>\n",
       "      <td>9810.9</td>\n",
       "      <td>5986.2</td>\n",
       "      <td>2520.0</td>\n",
       "      <td>461.0</td>\n",
       "    </tr>\n",
       "    <tr>\n",
       "      <th>12</th>\n",
       "      <td>2012.0</td>\n",
       "      <td>37439.6</td>\n",
       "      <td>18852.9</td>\n",
       "      <td>70085.4</td>\n",
       "      <td>9594.6</td>\n",
       "      <td>6608.4</td>\n",
       "      <td>1985.4</td>\n",
       "      <td>404.5</td>\n",
       "    </tr>\n",
       "    <tr>\n",
       "      <th>13</th>\n",
       "      <td>2013.0</td>\n",
       "      <td>34822.1</td>\n",
       "      <td>24820.6</td>\n",
       "      <td>77863.8</td>\n",
       "      <td>9569.1</td>\n",
       "      <td>7218.2</td>\n",
       "      <td>2037.0</td>\n",
       "      <td>390.7</td>\n",
       "    </tr>\n",
       "    <tr>\n",
       "      <th>14</th>\n",
       "      <td>2014.0</td>\n",
       "      <td>39047.5</td>\n",
       "      <td>27799.4</td>\n",
       "      <td>90571.6</td>\n",
       "      <td>9869.9</td>\n",
       "      <td>8552.8</td>\n",
       "      <td>2323.5</td>\n",
       "      <td>429.6</td>\n",
       "    </tr>\n",
       "    <tr>\n",
       "      <th>15</th>\n",
       "      <td>2015.0</td>\n",
       "      <td>44711.5</td>\n",
       "      <td>30444.1</td>\n",
       "      <td>102200.0</td>\n",
       "      <td>11811.0</td>\n",
       "      <td>9288.7</td>\n",
       "      <td>2820.0</td>\n",
       "      <td>493.0</td>\n",
       "    </tr>\n",
       "    <tr>\n",
       "      <th>16</th>\n",
       "      <td>2016.0</td>\n",
       "      <td>48524.6</td>\n",
       "      <td>32530.3</td>\n",
       "      <td>117037.8</td>\n",
       "      <td>12697.4</td>\n",
       "      <td>9477.6</td>\n",
       "      <td>3584.5</td>\n",
       "      <td>588.9</td>\n",
       "    </tr>\n",
       "    <tr>\n",
       "      <th>17</th>\n",
       "      <td>2017.0</td>\n",
       "      <td>54383.3</td>\n",
       "      <td>36111.8</td>\n",
       "      <td>132837.9</td>\n",
       "      <td>13747.3</td>\n",
       "      <td>9918.4</td>\n",
       "      <td>4556.4</td>\n",
       "      <td>698.2</td>\n",
       "    </tr>\n",
       "  </tbody>\n",
       "</table>\n",
       "</div>"
      ],
      "text/plain": [
       "       Năm    DT_LT    DT_LH    KTN_LT   KQT_LT  KTN_LH  KQT_LH  KDLNG\n",
       "0   2000.0   3268.5   1190.0    7674.0   2656.0   939.5  1359.3   99.0\n",
       "1   2001.0   3860.4   2009.0    9982.0   4110.0  1577.3  1439.1   97.0\n",
       "2   2002.0   5425.5   2430.4   14676.4   4934.2  2624.5  1947.6   97.8\n",
       "3   2003.0   6016.6   2633.2   16497.0   4187.2  2400.5  1425.0  150.7\n",
       "4   2004.0   7432.4   3302.1   18426.0   5676.2  2914.7  1644.5  596.0\n",
       "5   2005.0   9932.1   4761.2   21578.5   5326.6  3287.0  1776.3  370.6\n",
       "6   2006.0  11427.3   5304.7   22263.2   5844.1  2591.7  1902.3  403.0\n",
       "7   2007.0  14568.1   7712.0   27023.1   8035.8  2559.8  1883.7  360.8\n",
       "8   2008.0  18335.8   8409.6   33618.6   6733.3  2589.0  2032.2  376.1\n",
       "9   2009.0  23780.8  10278.4   46728.1   7595.3  5274.2  2344.3  455.7\n",
       "10  2010.0  28907.8  15539.3   57897.3   8637.9  5415.0  2385.8  433.4\n",
       "11  2011.0  34097.8  18091.6   61405.4   9810.9  5986.2  2520.0  461.0\n",
       "12  2012.0  37439.6  18852.9   70085.4   9594.6  6608.4  1985.4  404.5\n",
       "13  2013.0  34822.1  24820.6   77863.8   9569.1  7218.2  2037.0  390.7\n",
       "14  2014.0  39047.5  27799.4   90571.6   9869.9  8552.8  2323.5  429.6\n",
       "15  2015.0  44711.5  30444.1  102200.0  11811.0  9288.7  2820.0  493.0\n",
       "16  2016.0  48524.6  32530.3  117037.8  12697.4  9477.6  3584.5  588.9\n",
       "17  2017.0  54383.3  36111.8  132837.9  13747.3  9918.4  4556.4  698.2"
      ]
     },
     "execution_count": 64,
     "metadata": {},
     "output_type": "execute_result"
    }
   ],
   "source": [
    "cols = ['Năm', 'DT_LT', 'DT_LH', 'KTN_LT', 'KQT_LT', 'KTN_LH', 'KQT_LH', 'KDLNG']\n",
    "df = df.T\n",
    "df.columns = cols\n",
    "df"
   ]
  },
  {
   "cell_type": "code",
   "execution_count": 68,
   "metadata": {},
   "outputs": [
    {
     "name": "stdout",
     "output_type": "stream",
     "text": [
      "<class 'pandas.core.frame.DataFrame'>\n",
      "Int64Index: 18 entries, 0 to 17\n",
      "Data columns (total 8 columns):\n",
      " #   Column  Non-Null Count  Dtype   \n",
      "---  ------  --------------  -----   \n",
      " 0   Năm     18 non-null     category\n",
      " 1   DT_LT   18 non-null     float64 \n",
      " 2   DT_LH   18 non-null     float64 \n",
      " 3   KTN_LT  18 non-null     float64 \n",
      " 4   KQT_LT  18 non-null     float64 \n",
      " 5   KTN_LH  18 non-null     float64 \n",
      " 6   KQT_LH  18 non-null     float64 \n",
      " 7   KDLNG   18 non-null     float64 \n",
      "dtypes: category(1), float64(7)\n",
      "memory usage: 1.9 KB\n"
     ]
    }
   ],
   "source": [
    "df['Năm'] = df['Năm'].astype('category')\n",
    "df.info()"
   ]
  },
  {
   "cell_type": "code",
   "execution_count": 76,
   "metadata": {},
   "outputs": [
    {
     "name": "stderr",
     "output_type": "stream",
     "text": [
      "C:\\Users\\HP\\anaconda3\\lib\\site-packages\\ipykernel_launcher.py:2: SettingWithCopyWarning: \n",
      "A value is trying to be set on a copy of a slice from a DataFrame.\n",
      "Try using .loc[row_indexer,col_indexer] = value instead\n",
      "\n",
      "See the caveats in the documentation: https://pandas.pydata.org/pandas-docs/stable/user_guide/indexing.html#returning-a-view-versus-a-copy\n",
      "  \n"
     ]
    },
    {
     "data": {
      "text/plain": [
       "<matplotlib.axes._subplots.AxesSubplot at 0x282f513d288>"
      ]
     },
     "execution_count": 76,
     "metadata": {},
     "output_type": "execute_result"
    },
    {
     "data": {
      "image/png": "[encoded data removed]",
      "text/plain": [
       "<Figure size 432x288 with 1 Axes>"
      ]
     },
     "metadata": {
      "needs_background": "light"
     },
     "output_type": "display_data"
    }
   ],
   "source": [
    "dl_df = df[['Năm']]\n",
    "dl_df['KTN'] = df['KTN_LT'] + df['KTN_LH']\n",
    "\n",
    "dl_df.columns = ['Năm', 'Khách trong nước']\n",
    "\n",
    "dl_df.iloc[7:15].plot.bar(x='Năm', rot=0)"
   ]
  },
  {
   "cell_type": "code",
   "execution_count": 47,
   "metadata": {},
   "outputs": [
    {
     "name": "stdout",
     "output_type": "stream",
     "text": [
      "<class 'pandas.core.frame.DataFrame'>\n",
      "Int64Index: 18 entries, 0 to 17\n",
      "Data columns (total 3 columns):\n",
      " #   Column            Non-Null Count  Dtype  \n",
      "---  ------            --------------  -----  \n",
      " 0   Năm               18 non-null     object \n",
      " 1   Khách trong nước  18 non-null     float64\n",
      " 2   Khách quốc tế     18 non-null     float64\n",
      "dtypes: float64(2), object(1)\n",
      "memory usage: 576.0+ bytes\n"
     ]
    }
   ],
   "source": [
    "dl_df.info()"
   ]
  },
  {
   "cell_type": "code",
   "execution_count": 72,
   "metadata": {},
   "outputs": [
    {
     "data": {
      "image/png": "[encoded data removed]",
      "text/plain": [
       "<Figure size 432x288 with 1 Axes>"
      ]
     },
     "metadata": {
      "needs_background": "light"
     },
     "output_type": "display_data"
    }
   ],
   "source": [
    "dl_2 = df[['Năm', 'DT_LT', 'DT_LH']].iloc[7:15].plot.bar(x='Năm', rot=0)"
   ]
  },
  {
   "cell_type": "code",
   "execution_count": 75,
   "metadata": {},
   "outputs": [
    {
     "name": "stderr",
     "output_type": "stream",
     "text": [
      "C:\\Users\\HP\\anaconda3\\lib\\site-packages\\ipykernel_launcher.py:2: SettingWithCopyWarning: \n",
      "A value is trying to be set on a copy of a slice from a DataFrame.\n",
      "Try using .loc[row_indexer,col_indexer] = value instead\n",
      "\n",
      "See the caveats in the documentation: https://pandas.pydata.org/pandas-docs/stable/user_guide/indexing.html#returning-a-view-versus-a-copy\n",
      "  \n",
      "C:\\Users\\HP\\anaconda3\\lib\\site-packages\\ipykernel_launcher.py:3: SettingWithCopyWarning: \n",
      "A value is trying to be set on a copy of a slice from a DataFrame.\n",
      "Try using .loc[row_indexer,col_indexer] = value instead\n",
      "\n",
      "See the caveats in the documentation: https://pandas.pydata.org/pandas-docs/stable/user_guide/indexing.html#returning-a-view-versus-a-copy\n",
      "  This is separate from the ipykernel package so we can avoid doing imports until\n"
     ]
    },
    {
     "data": {
      "text/plain": [
       "<matplotlib.axes._subplots.AxesSubplot at 0x282f50a6c88>"
      ]
     },
     "execution_count": 75,
     "metadata": {},
     "output_type": "execute_result"
    },
    {
     "data": {
      "image/png": "[encoded data removed]",
      "text/plain": [
       "<Figure size 432x288 with 1 Axes>"
      ]
     },
     "metadata": {
      "needs_background": "light"
     },
     "output_type": "display_data"
    }
   ],
   "source": [
    "dl_2 = df[['Năm']]\n",
    "dl_2['Lưu trú'] = df['KTN_LT'] + df['KQT_LT']\n",
    "dl_2['Lữ hành'] = df['KTN_LH'] + df['KQT_LH']\n",
    "dl_2.iloc[7:15].plot.bar(x='Năm', rot=0)"
   ]
  },
  {
   "cell_type": "code",
   "execution_count": null,
   "metadata": {},
   "outputs": [],
   "source": []
  }
 ],
 "metadata": {
  "kernelspec": {
   "display_name": "Python 3",
   "language": "python",
   "name": "python3"
  },
  "language_info": {
   "codemirror_mode": {
    "name": "ipython",
    "version": 3
   },
   "file_extension": ".py",
   "mimetype": "text/x-python",
   "name": "python",
   "nbconvert_exporter": "python",
   "pygments_lexer": "ipython3",
   "version": "3.7.6"
  }
 },
 "nbformat": 4,
 "nbformat_minor": 4
}
