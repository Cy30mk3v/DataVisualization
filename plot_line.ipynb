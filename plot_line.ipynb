{
 "cells": [
  {
   "cell_type": "code",
   "execution_count": 1,
   "metadata": {},
   "outputs": [
    {
     "name": "stdout",
     "output_type": "stream",
     "text": [
      "<class 'pandas.core.frame.DataFrame'>\n",
      "RangeIndex: 9994 entries, 0 to 9993\n",
      "Data columns (total 21 columns):\n",
      " #   Column             Non-Null Count  Dtype  \n",
      "---  ------             --------------  -----  \n",
      " 0   Profit Ratio       9994 non-null   object \n",
      " 1   Category           9994 non-null   object \n",
      " 2   City               9994 non-null   object \n",
      " 3   Country            9994 non-null   object \n",
      " 4   Customer Name      9994 non-null   object \n",
      " 5   Discount           9994 non-null   object \n",
      " 6   Number of Records  9994 non-null   int64  \n",
      " 7   Order Date         9994 non-null   object \n",
      " 8   Order ID           9994 non-null   object \n",
      " 9   Postal Code        9983 non-null   float64\n",
      " 10  Manufacturer       9994 non-null   object \n",
      " 11  Product Name       9994 non-null   object \n",
      " 12  Profit             9994 non-null   object \n",
      " 13  Quantity           9994 non-null   int64  \n",
      " 14  Region             9994 non-null   object \n",
      " 15  Sales              9994 non-null   object \n",
      " 16  Segment            9994 non-null   object \n",
      " 17  Ship Date          9994 non-null   object \n",
      " 18  Ship Mode          9994 non-null   object \n",
      " 19  State              9994 non-null   object \n",
      " 20  Sub-Category       9994 non-null   object \n",
      "dtypes: float64(1), int64(2), object(18)\n",
      "memory usage: 1.6+ MB\n"
     ]
    }
   ],
   "source": [
    "import pandas as pd\n",
    "import numpy as np\n",
    "\n",
    "import seaborn as sns\n",
    "import matplotlib.pyplot as plt\n",
    "\n",
    "data = pd.read_csv('superstore.csv')\n",
    "data.info()"
   ]
  },
  {
   "cell_type": "code",
   "execution_count": 12,
   "metadata": {},
   "outputs": [
    {
     "name": "stdout",
     "output_type": "stream",
     "text": [
      "<class 'pandas.core.frame.DataFrame'>\n",
      "RangeIndex: 9994 entries, 0 to 9993\n",
      "Data columns (total 22 columns):\n",
      " #   Column             Non-Null Count  Dtype    \n",
      "---  ------             --------------  -----    \n",
      " 0   Profit Ratio       9994 non-null   object   \n",
      " 1   Category           9994 non-null   object   \n",
      " 2   City               9994 non-null   object   \n",
      " 3   Country            9994 non-null   object   \n",
      " 4   Customer Name      9994 non-null   object   \n",
      " 5   Discount           9994 non-null   object   \n",
      " 6   Number of Records  9994 non-null   int64    \n",
      " 7   Order Date         9994 non-null   object   \n",
      " 8   Order ID           9994 non-null   object   \n",
      " 9   Postal Code        9983 non-null   float64  \n",
      " 10  Manufacturer       9994 non-null   object   \n",
      " 11  Product Name       9994 non-null   object   \n",
      " 12  Profit             9994 non-null   object   \n",
      " 13  Quantity           9994 non-null   int64    \n",
      " 14  Region             9994 non-null   object   \n",
      " 15  Sales              9994 non-null   object   \n",
      " 16  Segment            9994 non-null   object   \n",
      " 17  Ship Date          9994 non-null   object   \n",
      " 18  Ship Mode          9994 non-null   object   \n",
      " 19  State              9994 non-null   object   \n",
      " 20  Sub-Category       9994 non-null   object   \n",
      " 21  Time               9994 non-null   period[M]\n",
      "dtypes: float64(1), int64(2), object(18), period[M](1)\n",
      "memory usage: 1.7+ MB\n"
     ]
    }
   ],
   "source": [
    "data['Time'] = pd.to_datetime(data['Order Date']).dt.to_period('m')\n",
    "data.info()"
   ]
  },
  {
   "cell_type": "code",
   "execution_count": 16,
   "metadata": {},
   "outputs": [],
   "source": [
    "total = []\n",
    "\n",
    "for item in data['Sales']:\n",
    "    k = str(item)[1:]\n",
    "    k = k.replace(',', '')\n",
    "    total.append(int(k, base=10))\n",
    "\n",
    "data['SalesN'] = pd.Series(total) "
   ]
  },
  {
   "cell_type": "code",
   "execution_count": 17,
   "metadata": {},
   "outputs": [
    {
     "data": {
      "text/html": [
       "<div>\n",
       "<style scoped>\n",
       "    .dataframe tbody tr th:only-of-type {\n",
       "        vertical-align: middle;\n",
       "    }\n",
       "\n",
       "    .dataframe tbody tr th {\n",
       "        vertical-align: top;\n",
       "    }\n",
       "\n",
       "    .dataframe thead th {\n",
       "        text-align: right;\n",
       "    }\n",
       "</style>\n",
       "<table border=\"1\" class=\"dataframe\">\n",
       "  <thead>\n",
       "    <tr style=\"text-align: right;\">\n",
       "      <th></th>\n",
       "      <th>Time</th>\n",
       "      <th>SalesN</th>\n",
       "    </tr>\n",
       "  </thead>\n",
       "  <tbody>\n",
       "    <tr>\n",
       "      <th>0</th>\n",
       "      <td>2015-01</td>\n",
       "      <td>14238</td>\n",
       "    </tr>\n",
       "    <tr>\n",
       "      <th>1</th>\n",
       "      <td>2015-02</td>\n",
       "      <td>4518</td>\n",
       "    </tr>\n",
       "    <tr>\n",
       "      <th>2</th>\n",
       "      <td>2015-03</td>\n",
       "      <td>55689</td>\n",
       "    </tr>\n",
       "    <tr>\n",
       "      <th>3</th>\n",
       "      <td>2015-04</td>\n",
       "      <td>28294</td>\n",
       "    </tr>\n",
       "    <tr>\n",
       "      <th>4</th>\n",
       "      <td>2015-05</td>\n",
       "      <td>23648</td>\n",
       "    </tr>\n",
       "  </tbody>\n",
       "</table>\n",
       "</div>"
      ],
      "text/plain": [
       "      Time  SalesN\n",
       "0  2015-01   14238\n",
       "1  2015-02    4518\n",
       "2  2015-03   55689\n",
       "3  2015-04   28294\n",
       "4  2015-05   23648"
      ]
     },
     "execution_count": 17,
     "metadata": {},
     "output_type": "execute_result"
    }
   ],
   "source": [
    "total_sales = data[['Time', 'SalesN']].groupby('Time', as_index=False).agg('sum')\n",
    "total_sales.head()"
   ]
  },
  {
   "cell_type": "code",
   "execution_count": 18,
   "metadata": {},
   "outputs": [
    {
     "data": {
      "text/plain": [
       "<matplotlib.axes._subplots.AxesSubplot at 0x29b6d25e748>"
      ]
     },
     "execution_count": 18,
     "metadata": {},
     "output_type": "execute_result"
    },
    {
     "data": {
      "image/png": "[encoded data removed]",
      "text/plain": [
       "<Figure size 432x288 with 1 Axes>"
      ]
     },
     "metadata": {
      "needs_background": "light"
     },
     "output_type": "display_data"
    }
   ],
   "source": [
    "total_sales.plot.line()"
   ]
  },
  {
   "cell_type": "code",
   "execution_count": null,
   "metadata": {},
   "outputs": [],
   "source": []
  }
 ],
 "metadata": {
  "kernelspec": {
   "display_name": "Python 3",
   "language": "python",
   "name": "python3"
  },
  "language_info": {
   "codemirror_mode": {
    "name": "ipython",
    "version": 3
   },
   "file_extension": ".py",
   "mimetype": "text/x-python",
   "name": "python",
   "nbconvert_exporter": "python",
   "pygments_lexer": "ipython3",
   "version": "3.7.6"
  }
 },
 "nbformat": 4,
 "nbformat_minor": 4
}
